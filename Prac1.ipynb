{
  "nbformat": 4,
  "nbformat_minor": 0,
  "metadata": {
    "colab": {
      "provenance": []
    },
    "kernelspec": {
      "name": "python3",
      "display_name": "Python 3"
    },
    "language_info": {
      "name": "python"
    }
  },
  "cells": [
    {
      "cell_type": "code",
      "execution_count": 1,
      "metadata": {
        "colab": {
          "base_uri": "https://localhost:8080/"
        },
        "id": "9wMcn2PlaX55",
        "outputId": "0485f36b-b0c3-403a-d03e-ba3200edf214"
      },
      "outputs": [
        {
          "output_type": "stream",
          "name": "stdout",
          "text": [
            "Shubham\n"
          ]
        }
      ],
      "source": [
        "#1> Write a code to create a string with your name and print it\n",
        "name=\"Shubham\"\n",
        "print(name)"
      ]
    },
    {
      "cell_type": "code",
      "source": [
        "#2> Write a code to find the length of the string \"Hello World\"\n",
        "string=\"Hello World\"\n",
        "print(\"Length of the string:\",len(string))"
      ],
      "metadata": {
        "colab": {
          "base_uri": "https://localhost:8080/"
        },
        "id": "OlqgJgTqa9OT",
        "outputId": "d67a76d0-15b1-40f4-9662-6f86a3520ae9"
      },
      "execution_count": 3,
      "outputs": [
        {
          "output_type": "stream",
          "name": "stdout",
          "text": [
            "Length of the string: 11\n"
          ]
        }
      ]
    },
    {
      "cell_type": "code",
      "source": [
        "#3> Write a code to slice the first 3 characters from the string \"Python Programming\"\n",
        "text = \"Python Programming\"\n",
        "sliced_text = text[:3]\n",
        "print(sliced_text)"
      ],
      "metadata": {
        "colab": {
          "base_uri": "https://localhost:8080/"
        },
        "id": "AN395JUNbK9n",
        "outputId": "dd78a688-366e-4ce1-9dae-cd286095a6f0"
      },
      "execution_count": 4,
      "outputs": [
        {
          "output_type": "stream",
          "name": "stdout",
          "text": [
            "Pyt\n"
          ]
        }
      ]
    },
    {
      "cell_type": "code",
      "source": [
        "#4> Write a code to convert the string \"hello\" to uppercase\n",
        "text = \"hello\"\n",
        "print(\"Original Text: \",text)\n",
        "uppercase_text = text.upper()\n",
        "print(\"Uppercase: \",uppercase_text)"
      ],
      "metadata": {
        "colab": {
          "base_uri": "https://localhost:8080/"
        },
        "id": "MBLxfv_Vbf36",
        "outputId": "151ca7f6-a935-4e75-add1-347b99a34f7a"
      },
      "execution_count": 5,
      "outputs": [
        {
          "output_type": "stream",
          "name": "stdout",
          "text": [
            "Original Text:  hello\n",
            "Uppercase:  HELLO\n"
          ]
        }
      ]
    },
    {
      "cell_type": "code",
      "source": [
        "#5> Write a code to replace the word \"apple\" with \"orange\" in the string \"I like apple\"\n",
        "txt = \"I like apple\"\n",
        "print(\"Original Text: \",txt)\n",
        "modified_text = txt.replace(\"apple\", \"orange\")\n",
        "print(\"Modified Text: \",modified_text)"
      ],
      "metadata": {
        "colab": {
          "base_uri": "https://localhost:8080/"
        },
        "id": "NBA9BEQqb5_i",
        "outputId": "88f7a0e7-ed10-468e-ebff-d3a4301d3a9e"
      },
      "execution_count": 6,
      "outputs": [
        {
          "output_type": "stream",
          "name": "stdout",
          "text": [
            "Original Text:  I like apple\n",
            "Modified Text:  I like orange\n"
          ]
        }
      ]
    },
    {
      "cell_type": "code",
      "source": [
        "#6> Write a code to create a list with numbers 1 to 5 and print it\n",
        "numbers = [1, 2, 3, 4, 5]\n",
        "print(numbers)"
      ],
      "metadata": {
        "colab": {
          "base_uri": "https://localhost:8080/"
        },
        "id": "fJqoEAqwcYSK",
        "outputId": "cbe1bf0b-2797-4504-9283-87a1303224a2"
      },
      "execution_count": 7,
      "outputs": [
        {
          "output_type": "stream",
          "name": "stdout",
          "text": [
            "[1, 2, 3, 4, 5]\n"
          ]
        }
      ]
    },
    {
      "cell_type": "code",
      "source": [
        "#7> Write a code to append the number 10 to the list [1, 2, 3, 4]\n",
        "num = [1, 2, 3, 4]\n",
        "print(\"Original list: \",num)\n",
        "num.append(10)\n",
        "print(\"Modified list: \",num)"
      ],
      "metadata": {
        "colab": {
          "base_uri": "https://localhost:8080/"
        },
        "id": "IgFxgsxleNcM",
        "outputId": "836b252e-2c1b-4eb9-d0ab-053b13161a5f"
      },
      "execution_count": 8,
      "outputs": [
        {
          "output_type": "stream",
          "name": "stdout",
          "text": [
            "Original list:  [1, 2, 3, 4]\n",
            "Modified list:  [1, 2, 3, 4, 10]\n"
          ]
        }
      ]
    },
    {
      "cell_type": "code",
      "source": [
        "#8> Write a code to remove the number 3 from the list [1, 2, 3, 4, 5]\n",
        "n = [1, 2, 3, 4, 5]\n",
        "print(\"Original list: \",n)\n",
        "n.remove(3)\n",
        "print(\"Modified list: \",n)"
      ],
      "metadata": {
        "colab": {
          "base_uri": "https://localhost:8080/"
        },
        "id": "UU4LIHpEekCY",
        "outputId": "2ae4e690-364e-4dd4-b0e5-2da70da2c1fd"
      },
      "execution_count": 9,
      "outputs": [
        {
          "output_type": "stream",
          "name": "stdout",
          "text": [
            "Original list:  [1, 2, 3, 4, 5]\n",
            "Modified list:  [1, 2, 4, 5]\n"
          ]
        }
      ]
    },
    {
      "cell_type": "code",
      "source": [
        "#9> Write a code to access the second element in the list ['a', 'b', 'c', 'd']\n",
        "lst = ['a', 'b', 'c', 'd']\n",
        "print(\"Original list: \",lst)\n",
        "second_element = lst[1]\n",
        "print(\"Second element: \",second_element)"
      ],
      "metadata": {
        "colab": {
          "base_uri": "https://localhost:8080/"
        },
        "id": "C4Lji9Hieu6c",
        "outputId": "a680d1af-a1d3-46e6-a7b2-9ec9d6085e20"
      },
      "execution_count": 10,
      "outputs": [
        {
          "output_type": "stream",
          "name": "stdout",
          "text": [
            "Original list:  ['a', 'b', 'c', 'd']\n",
            "Second element:  b\n"
          ]
        }
      ]
    },
    {
      "cell_type": "code",
      "source": [
        "#10> Write a code to reverse the list [10, 20, 30, 40, 50]\n",
        "l = [10, 20, 30, 40, 50]\n",
        "print(\"Original list: \",l)\n",
        "l.reverse()\n",
        "print(\"Reversed list: \",l)"
      ],
      "metadata": {
        "colab": {
          "base_uri": "https://localhost:8080/"
        },
        "id": "D4c2mC-hfIiB",
        "outputId": "01ec0c4e-3037-4616-9d77-d901bea5c0b6"
      },
      "execution_count": 11,
      "outputs": [
        {
          "output_type": "stream",
          "name": "stdout",
          "text": [
            "Original list:  [10, 20, 30, 40, 50]\n",
            "Reversed list:  [50, 40, 30, 20, 10]\n"
          ]
        }
      ]
    },
    {
      "cell_type": "code",
      "source": [
        "#11> Write a code to create a tuple with the elements 10, 20, 30 and print it.\n",
        "my_tuple = (10, 20, 30)\n",
        "print(my_tuple)"
      ],
      "metadata": {
        "colab": {
          "base_uri": "https://localhost:8080/"
        },
        "id": "Rt0Z0gEVfhwP",
        "outputId": "a5769a68-8052-47b0-b68e-49ca2d5a686f"
      },
      "execution_count": 12,
      "outputs": [
        {
          "output_type": "stream",
          "name": "stdout",
          "text": [
            "(10, 20, 30)\n"
          ]
        }
      ]
    },
    {
      "cell_type": "code",
      "source": [
        "#12> Write a code to access the first element of the tuple ('apple', 'banana', 'cherry').\n",
        "fruits = ('apple', 'banana', 'cherry')\n",
        "print(\"Original tuple: \",fruits)\n",
        "first_fruit = fruits[0]\n",
        "print(\"First element: \",first_fruit)"
      ],
      "metadata": {
        "colab": {
          "base_uri": "https://localhost:8080/"
        },
        "id": "RD6zVpZYf0mO",
        "outputId": "3a872cb0-c00b-40f2-bfa0-e4787c5af04a"
      },
      "execution_count": 13,
      "outputs": [
        {
          "output_type": "stream",
          "name": "stdout",
          "text": [
            "Original tuple:  ('apple', 'banana', 'cherry')\n",
            "First element:  apple\n"
          ]
        }
      ]
    },
    {
      "cell_type": "code",
      "source": [
        "#13> Write a code to count how many times the number 2 appears in the tuple (1, 2, 3, 2, 4, 2).\n",
        "bers = (1, 2, 3, 2, 4, 2)\n",
        "print(\"Original tuple: \",bers)\n",
        "count = bers.count(2)\n",
        "print(\"2 is present\",count,\"times in the tuple.\")"
      ],
      "metadata": {
        "colab": {
          "base_uri": "https://localhost:8080/"
        },
        "id": "B1Q56tXygeOe",
        "outputId": "0b109eca-38b6-4d02-a193-6b322657d255"
      },
      "execution_count": 15,
      "outputs": [
        {
          "output_type": "stream",
          "name": "stdout",
          "text": [
            "Original tuple:  (1, 2, 3, 2, 4, 2)\n",
            "2 is present 3 times in the tuple.\n"
          ]
        }
      ]
    },
    {
      "cell_type": "code",
      "source": [
        "#14> Write a code to find the index of the element \"cat\" in the tuple ('dog', 'cat', 'rabbit').\n",
        "animals = ('dog', 'cat', 'rabbit')\n",
        "cat_index = animals.index('cat')\n",
        "print(cat_index)"
      ],
      "metadata": {
        "colab": {
          "base_uri": "https://localhost:8080/"
        },
        "id": "rTl8PKg7hPzp",
        "outputId": "a0d06842-ac82-493e-84af-4e310e8d9d5e"
      },
      "execution_count": 16,
      "outputs": [
        {
          "output_type": "stream",
          "name": "stdout",
          "text": [
            "1\n"
          ]
        }
      ]
    },
    {
      "cell_type": "code",
      "source": [
        "#15> Write a code to check if the element \"banana\" is in the tuple ('apple', 'orange', 'banana').\n",
        "fru = ('apple', 'orange', 'banana')\n",
        "is_in_tuple = 'banana' in fru\n",
        "print(is_in_tuple)\n"
      ],
      "metadata": {
        "colab": {
          "base_uri": "https://localhost:8080/"
        },
        "id": "7nDYilLYiT-D",
        "outputId": "579c5b77-47bf-4420-cd52-fbbfb4118ad1"
      },
      "execution_count": 17,
      "outputs": [
        {
          "output_type": "stream",
          "name": "stdout",
          "text": [
            "True\n"
          ]
        }
      ]
    },
    {
      "cell_type": "code",
      "source": [
        "#16> Write a code to create a set with the elements 1, 2, 3, 4, 5 and print it.\n",
        "my_set = {1, 2, 3, 4, 5}\n",
        "print(my_set)"
      ],
      "metadata": {
        "colab": {
          "base_uri": "https://localhost:8080/"
        },
        "id": "-yPSfGwojkqp",
        "outputId": "c53eee4f-f406-47ad-c353-2ef782b58711"
      },
      "execution_count": 19,
      "outputs": [
        {
          "output_type": "stream",
          "name": "stdout",
          "text": [
            "{1, 2, 3, 4, 5}\n"
          ]
        }
      ]
    },
    {
      "cell_type": "code",
      "source": [
        "#17> Write a code to add the element 6 to the set {1, 2, 3, 4}.\n",
        "my_set = {1, 2, 3, 4}\n",
        "my_set.add(6)\n",
        "print(\"After Modification: \",my_set)"
      ],
      "metadata": {
        "colab": {
          "base_uri": "https://localhost:8080/"
        },
        "id": "8EAHK8dHj_Is",
        "outputId": "1712fe33-158c-499d-9db8-c52d8d666894"
      },
      "execution_count": 20,
      "outputs": [
        {
          "output_type": "stream",
          "name": "stdout",
          "text": [
            "After Modification:  {1, 2, 3, 4, 6}\n"
          ]
        }
      ]
    }
  ]
}