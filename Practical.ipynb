{
  "nbformat": 4,
  "nbformat_minor": 0,
  "metadata": {
    "colab": {
      "provenance": []
    },
    "kernelspec": {
      "name": "python3",
      "display_name": "Python 3"
    },
    "language_info": {
      "name": "python"
    }
  },
  "cells": [
    {
      "cell_type": "code",
      "execution_count": 1,
      "metadata": {
        "colab": {
          "base_uri": "https://localhost:8080/"
        },
        "id": "RwR2p81OsHex",
        "outputId": "f4a75d4a-ca9e-4fb6-e2aa-8fe31ae66ab7"
      },
      "outputs": [
        {
          "output_type": "stream",
          "name": "stdout",
          "text": [
            "Hello World\n"
          ]
        }
      ],
      "source": [
        "#1> Write a Python program to print \"Hello, World!\n",
        "print(\"Hello World\")"
      ]
    },
    {
      "cell_type": "code",
      "source": [
        "#2> Write a Python program that displays your name and age\n",
        "print(\"Name: Shubham Ghosh\")\n",
        "print(\"Age: 21\")"
      ],
      "metadata": {
        "colab": {
          "base_uri": "https://localhost:8080/"
        },
        "id": "dk3G0FJRsbyF",
        "outputId": "e5ab8b70-4bfd-4557-b89c-58b4b870af97"
      },
      "execution_count": 2,
      "outputs": [
        {
          "output_type": "stream",
          "name": "stdout",
          "text": [
            "Name: Shubham Ghosh\n",
            "Age: 21\n"
          ]
        }
      ]
    },
    {
      "cell_type": "code",
      "source": [
        "#3> Write code to print all the pre-defined keywords in Python using the keyword library\n",
        "help('keywords')"
      ],
      "metadata": {
        "colab": {
          "base_uri": "https://localhost:8080/"
        },
        "id": "JwJ65px8tFq5",
        "outputId": "845e041b-fc00-45fa-cf69-86413c669653"
      },
      "execution_count": 3,
      "outputs": [
        {
          "output_type": "stream",
          "name": "stdout",
          "text": [
            "\n",
            "Here is a list of the Python keywords.  Enter any keyword to get more help.\n",
            "\n",
            "False               class               from                or\n",
            "None                continue            global              pass\n",
            "True                def                 if                  raise\n",
            "and                 del                 import              return\n",
            "as                  elif                in                  try\n",
            "assert              else                is                  while\n",
            "async               except              lambda              with\n",
            "await               finally             nonlocal            yield\n",
            "break               for                 not                 \n",
            "\n"
          ]
        }
      ]
    },
    {
      "cell_type": "code",
      "source": [
        "#4> Write a program that checks if a given word is a Python keyword\n",
        "import keyword\n",
        "s = 'for'\n",
        "if keyword.iskeyword(s):\n",
        "    print(f\"'{s}' is a Python keyword.\")\n",
        "else:\n",
        "    print(f\"'{s}' is not a Python keyword.\")"
      ],
      "metadata": {
        "colab": {
          "base_uri": "https://localhost:8080/"
        },
        "id": "Qo6Bgykututv",
        "outputId": "d248bbd8-9a39-4518-d1eb-2adaa93a0c51"
      },
      "execution_count": 4,
      "outputs": [
        {
          "output_type": "stream",
          "name": "stdout",
          "text": [
            "'for' is a Python keyword.\n"
          ]
        }
      ]
    },
    {
      "cell_type": "code",
      "source": [
        "#5> Create a list and tuple in Python, and demonstrate how attempting to change an element works differently for each\n",
        "\n",
        "#List\n",
        "my_list = [1, 2, 3]\n",
        "\n",
        "# Modify an element in the list\n",
        "print(\"Original list:\", my_list)\n",
        "my_list[1] = 42\n",
        "print(\"Modified list:\", my_list)\n"
      ],
      "metadata": {
        "colab": {
          "base_uri": "https://localhost:8080/"
        },
        "id": "2faYTFYqutwv",
        "outputId": "8fd1839a-593e-40dc-cae0-2f70f9b53a2f"
      },
      "execution_count": 5,
      "outputs": [
        {
          "output_type": "stream",
          "name": "stdout",
          "text": [
            "Original list: [1, 2, 3]\n",
            "Modified list: [1, 42, 3]\n"
          ]
        }
      ]
    },
    {
      "cell_type": "code",
      "source": [
        "#Tuple\n",
        "my_tuple= (1, 2, 3)\n",
        "\n",
        "# Modify an element in the tuple\n",
        "print(\"Original list:\", my_list)\n",
        "my_tuple[1]= 42\n",
        "print(\"Modified list:\", my_list)"
      ],
      "metadata": {
        "colab": {
          "base_uri": "https://localhost:8080/",
          "height": 211
        },
        "id": "tHYkv8bVwAJ_",
        "outputId": "2ecadf9c-d3ff-48bd-c642-1c14f1c308e7"
      },
      "execution_count": 6,
      "outputs": [
        {
          "output_type": "stream",
          "name": "stdout",
          "text": [
            "Original list: [1, 42, 3]\n"
          ]
        },
        {
          "output_type": "error",
          "ename": "TypeError",
          "evalue": "'tuple' object does not support item assignment",
          "traceback": [
            "\u001b[0;31m---------------------------------------------------------------------------\u001b[0m",
            "\u001b[0;31mTypeError\u001b[0m                                 Traceback (most recent call last)",
            "\u001b[0;32m<ipython-input-6-a708bbf8b75d>\u001b[0m in \u001b[0;36m<cell line: 6>\u001b[0;34m()\u001b[0m\n\u001b[1;32m      4\u001b[0m \u001b[0;31m# Modify an element in the tuple\u001b[0m\u001b[0;34m\u001b[0m\u001b[0;34m\u001b[0m\u001b[0m\n\u001b[1;32m      5\u001b[0m \u001b[0mprint\u001b[0m\u001b[0;34m(\u001b[0m\u001b[0;34m\"Original list:\"\u001b[0m\u001b[0;34m,\u001b[0m \u001b[0mmy_list\u001b[0m\u001b[0;34m)\u001b[0m\u001b[0;34m\u001b[0m\u001b[0;34m\u001b[0m\u001b[0m\n\u001b[0;32m----> 6\u001b[0;31m \u001b[0mmy_tuple\u001b[0m\u001b[0;34m[\u001b[0m\u001b[0;36m1\u001b[0m\u001b[0;34m]\u001b[0m\u001b[0;34m=\u001b[0m \u001b[0;36m42\u001b[0m\u001b[0;34m\u001b[0m\u001b[0;34m\u001b[0m\u001b[0m\n\u001b[0m\u001b[1;32m      7\u001b[0m \u001b[0mprint\u001b[0m\u001b[0;34m(\u001b[0m\u001b[0;34m\"Modified list:\"\u001b[0m\u001b[0;34m,\u001b[0m \u001b[0mmy_list\u001b[0m\u001b[0;34m)\u001b[0m\u001b[0;34m\u001b[0m\u001b[0;34m\u001b[0m\u001b[0m\n",
            "\u001b[0;31mTypeError\u001b[0m: 'tuple' object does not support item assignment"
          ]
        }
      ]
    },
    {
      "cell_type": "code",
      "source": [
        "#6> Write a function to demonstrate the behavior of mutable and immutable arguments\n",
        "\n",
        "#Mutablity\n",
        "list_cont = [1, 2, 3, 4.3, 3+5j, True, \"Ajay\"]\n",
        "print(\"Original List: \",list_cont)\n",
        "list_cont[6] = \"Bijay\"\n",
        "print(\"After Modification: \",list_cont)\n"
      ],
      "metadata": {
        "colab": {
          "base_uri": "https://localhost:8080/"
        },
        "id": "Q_jE-V3mwxpB",
        "outputId": "56862d1b-18f3-4dc6-bb52-b117f7cd3b61"
      },
      "execution_count": 8,
      "outputs": [
        {
          "output_type": "stream",
          "name": "stdout",
          "text": [
            "Original List:  [1, 2, 3, 4.3, (3+5j), True, 'Ajay']\n",
            "After Modification:  [1, 2, 3, 4.3, (3+5j), True, 'Bijay']\n"
          ]
        }
      ]
    },
    {
      "cell_type": "code",
      "source": [
        "#Immutablity\n",
        "str=\"PWSkill\"\n",
        "print(\"Original String: \",str)\n",
        "str[0] = \"I\"\n",
        "print(\"After Modification: \",str)"
      ],
      "metadata": {
        "colab": {
          "base_uri": "https://localhost:8080/",
          "height": 211
        },
        "id": "hBI0XTcXzpvk",
        "outputId": "8a443c00-cf06-47ed-cbc5-45716f2a7300"
      },
      "execution_count": 9,
      "outputs": [
        {
          "output_type": "stream",
          "name": "stdout",
          "text": [
            "Original String:  PWSkill\n"
          ]
        },
        {
          "output_type": "error",
          "ename": "TypeError",
          "evalue": "'str' object does not support item assignment",
          "traceback": [
            "\u001b[0;31m---------------------------------------------------------------------------\u001b[0m",
            "\u001b[0;31mTypeError\u001b[0m                                 Traceback (most recent call last)",
            "\u001b[0;32m<ipython-input-9-a1e8b5a4b59a>\u001b[0m in \u001b[0;36m<cell line: 4>\u001b[0;34m()\u001b[0m\n\u001b[1;32m      2\u001b[0m \u001b[0mstr\u001b[0m\u001b[0;34m=\u001b[0m\u001b[0;34m\"PWSkill\"\u001b[0m\u001b[0;34m\u001b[0m\u001b[0;34m\u001b[0m\u001b[0m\n\u001b[1;32m      3\u001b[0m \u001b[0mprint\u001b[0m\u001b[0;34m(\u001b[0m\u001b[0;34m\"Original String: \"\u001b[0m\u001b[0;34m,\u001b[0m\u001b[0mstr\u001b[0m\u001b[0;34m)\u001b[0m\u001b[0;34m\u001b[0m\u001b[0;34m\u001b[0m\u001b[0m\n\u001b[0;32m----> 4\u001b[0;31m \u001b[0mstr\u001b[0m\u001b[0;34m[\u001b[0m\u001b[0;36m0\u001b[0m\u001b[0;34m]\u001b[0m \u001b[0;34m=\u001b[0m \u001b[0;34m\"I\"\u001b[0m\u001b[0;34m\u001b[0m\u001b[0;34m\u001b[0m\u001b[0m\n\u001b[0m\u001b[1;32m      5\u001b[0m \u001b[0mprint\u001b[0m\u001b[0;34m(\u001b[0m\u001b[0;34m\"After Modification: \"\u001b[0m\u001b[0;34m,\u001b[0m\u001b[0mstr\u001b[0m\u001b[0;34m)\u001b[0m\u001b[0;34m\u001b[0m\u001b[0;34m\u001b[0m\u001b[0m\n",
            "\u001b[0;31mTypeError\u001b[0m: 'str' object does not support item assignment"
          ]
        }
      ]
    },
    {
      "cell_type": "code",
      "source": [
        "#8> Write a program to demonstrate the use of logical operators\n",
        "a = 10\n",
        "b = 5\n",
        "c = 2\n",
        "print(f\"Values: a={a}, b={b}, c={c}\")\n",
        "\n",
        "# Logical AND\n",
        "print(\"Logical AND (a > b and b > c):\", a > b and b > c)\n",
        "\n",
        "# Logical OR\n",
        "print(\"Logical OR (a > b or b > c):\", a > b or b > c)\n",
        "\n",
        "# Logical NOT\n",
        "print(\"Logical NOT (not (a > b)):\", not (a > b))"
      ],
      "metadata": {
        "colab": {
          "base_uri": "https://localhost:8080/"
        },
        "id": "LCJPrV_90Gtn",
        "outputId": "584a50af-0a01-44ec-e8c6-4e7574f4ed14"
      },
      "execution_count": 12,
      "outputs": [
        {
          "output_type": "stream",
          "name": "stdout",
          "text": [
            "Values: a=10, b=5, c=2\n",
            "Logical AND (a > b and b > c): True\n",
            "Logical OR (a > b or b > c): True\n",
            "Logical NOT (not (a > b)): False\n"
          ]
        }
      ]
    },
    {
      "cell_type": "code",
      "source": [
        "#9> Write a Python program to convert user input from string to integer, float, and boolean types\n",
        "user_input= input(\"Enter a string: \")\n",
        "print(\"String: \",user_input)\n",
        "print(\"Integer: \",int(user_input))\n",
        "print(\"Float: \",float(user_input))\n",
        "print(\"Boolean: \",bool(user_input))"
      ],
      "metadata": {
        "colab": {
          "base_uri": "https://localhost:8080/"
        },
        "id": "Br-PNFpu1vgQ",
        "outputId": "d2cc7aa0-9818-41cd-a422-a5e898658ae1"
      },
      "execution_count": 16,
      "outputs": [
        {
          "output_type": "stream",
          "name": "stdout",
          "text": [
            "Enter a string: 216\n",
            "String:  216\n",
            "Integer:  216\n",
            "Float:  216.0\n",
            "Boolean:  True\n"
          ]
        }
      ]
    },
    {
      "cell_type": "code",
      "source": [
        "#10> Write code to demonstrate type casting with list elements\n",
        "original_list = [\"123\", \"45.67\", \"True\", \"hello\"]\n",
        "print(\"Original list:\", original_list)\n",
        "\n",
        "# Convert to integer\n",
        "int_value = int(original_list[0])\n",
        "print(f\"Element '{original_list[0]}' cast to integer: {int_value}\")\n",
        "\n",
        "# Convert to float\n",
        "float_value = float(original_list[1])  # Convert to float\n",
        "print(f\"Element '{original_list[1]}' cast to float: {float_value}\")\n",
        "\n",
        "# Convert to boolean\n",
        "bool_value = bool(original_list[2])  # Convert to boolean\n",
        "print(f\"Element '{original_list[2]}' cast to boolean: {bool_value}\")\n",
        "\n",
        "# Convert to string\n",
        "str_value = str(original_list[3])\n",
        "print(f\"Element '{original_list[3]}' cast to string: {str_value}\")"
      ],
      "metadata": {
        "colab": {
          "base_uri": "https://localhost:8080/",
          "height": 263
        },
        "id": "J1hdSlOh3Gey",
        "outputId": "f31edf1d-a161-48b0-949b-06ec39ffc617"
      },
      "execution_count": 22,
      "outputs": [
        {
          "output_type": "stream",
          "name": "stdout",
          "text": [
            "Original list: ['123', '45.67', 'True', 'hello']\n",
            "Element '123' cast to integer: 123\n",
            "Element '45.67' cast to float: 45.67\n",
            "Element 'True' cast to boolean: True\n"
          ]
        },
        {
          "output_type": "error",
          "ename": "TypeError",
          "evalue": "'str' object is not callable",
          "traceback": [
            "\u001b[0;31m---------------------------------------------------------------------------\u001b[0m",
            "\u001b[0;31mTypeError\u001b[0m                                 Traceback (most recent call last)",
            "\u001b[0;32m<ipython-input-22-2c49a51378d6>\u001b[0m in \u001b[0;36m<cell line: 18>\u001b[0;34m()\u001b[0m\n\u001b[1;32m     16\u001b[0m \u001b[0;34m\u001b[0m\u001b[0m\n\u001b[1;32m     17\u001b[0m \u001b[0;31m# Convert to string\u001b[0m\u001b[0;34m\u001b[0m\u001b[0;34m\u001b[0m\u001b[0m\n\u001b[0;32m---> 18\u001b[0;31m \u001b[0mstr_value\u001b[0m \u001b[0;34m=\u001b[0m \u001b[0mstr\u001b[0m\u001b[0;34m(\u001b[0m\u001b[0moriginal_list\u001b[0m\u001b[0;34m[\u001b[0m\u001b[0;36m3\u001b[0m\u001b[0;34m]\u001b[0m\u001b[0;34m)\u001b[0m\u001b[0;34m\u001b[0m\u001b[0;34m\u001b[0m\u001b[0m\n\u001b[0m\u001b[1;32m     19\u001b[0m \u001b[0mprint\u001b[0m\u001b[0;34m(\u001b[0m\u001b[0;34mf\"Element '{original_list[3]}' cast to string: {str_value}\"\u001b[0m\u001b[0;34m)\u001b[0m\u001b[0;34m\u001b[0m\u001b[0;34m\u001b[0m\u001b[0m\n",
            "\u001b[0;31mTypeError\u001b[0m: 'str' object is not callable"
          ]
        }
      ]
    },
    {
      "cell_type": "code",
      "source": [
        "#11> Write a program that checks if a number is positive, negative, or zero\n",
        "num = int(input(\"Enter a number: \"))\n",
        "if num > 0:\n",
        "  print(f\"The number is positive.\")\n",
        "elif num < 0:\n",
        "  print(f\"The number is negative.\")\n",
        "else:\n",
        "  print(f\"The number is zero.\")\n"
      ],
      "metadata": {
        "colab": {
          "base_uri": "https://localhost:8080/"
        },
        "id": "3hfPNeag5z1r",
        "outputId": "76673ce3-a588-4e10-fa95-292fc72cc23a"
      },
      "execution_count": 28,
      "outputs": [
        {
          "output_type": "stream",
          "name": "stdout",
          "text": [
            "Enter a number: 24\n",
            "The number is positive.\n"
          ]
        }
      ]
    },
    {
      "cell_type": "code",
      "source": [
        "num = int(input(\"Enter a number: \"))\n",
        "if num > 0:\n",
        "  print(f\"The number is positive.\")\n",
        "elif num < 0:\n",
        "  print(f\"The number is negative.\")\n",
        "else:\n",
        "  print(f\"The number is zero.\")"
      ],
      "metadata": {
        "colab": {
          "base_uri": "https://localhost:8080/"
        },
        "id": "HxpHjvn96jm6",
        "outputId": "fb094f28-3eb7-4298-b700-adcbbecbd5da"
      },
      "execution_count": 27,
      "outputs": [
        {
          "output_type": "stream",
          "name": "stdout",
          "text": [
            "Enter a number: -7\n",
            "The number is negative.\n"
          ]
        }
      ]
    },
    {
      "cell_type": "code",
      "source": [
        "num = int(input(\"Enter a number: \"))\n",
        "if num > 0:\n",
        "  print(f\"The number is positive.\")\n",
        "elif num < 0:\n",
        "  print(f\"The number is negative.\")\n",
        "else:\n",
        "  print(f\"The number is zero.\")"
      ],
      "metadata": {
        "colab": {
          "base_uri": "https://localhost:8080/"
        },
        "id": "sjM9GCsB6p8F",
        "outputId": "7ddd8de5-4a1b-487a-ae4f-89085617530f"
      },
      "execution_count": 26,
      "outputs": [
        {
          "output_type": "stream",
          "name": "stdout",
          "text": [
            "Enter a number: 0\n",
            "The number is zero.\n"
          ]
        }
      ]
    },
    {
      "cell_type": "code",
      "source": [
        "#12> Write a for loop to print numbers from 1 to 10\n",
        "for i in range(1,11):\n",
        "    print(i)"
      ],
      "metadata": {
        "colab": {
          "base_uri": "https://localhost:8080/"
        },
        "id": "GmehmXKE68yG",
        "outputId": "ecd6d1dd-95f6-4177-c152-21b7f4812af6"
      },
      "execution_count": 29,
      "outputs": [
        {
          "output_type": "stream",
          "name": "stdout",
          "text": [
            "1\n",
            "2\n",
            "3\n",
            "4\n",
            "5\n",
            "6\n",
            "7\n",
            "8\n",
            "9\n",
            "10\n"
          ]
        }
      ]
    },
    {
      "cell_type": "code",
      "source": [
        "#13> Write a Python program to find the sum of all even numbers between 1 and 50\n",
        "\n",
        "s=0\n",
        "for i in range(1,50):\n",
        "    if i%2 == 0:\n",
        "      s+=i\n",
        "print(\"All even numbers between 1 and 50: \",s)"
      ],
      "metadata": {
        "colab": {
          "base_uri": "https://localhost:8080/"
        },
        "id": "SMhRBYqN7VsJ",
        "outputId": "9ce6eb07-80d3-464b-e681-9894b74adfc7"
      },
      "execution_count": 38,
      "outputs": [
        {
          "output_type": "stream",
          "name": "stdout",
          "text": [
            "All even numbers between 1 and 50:  600\n"
          ]
        }
      ]
    },
    {
      "cell_type": "code",
      "source": [
        "#14> Write a program to reverse a string using a while loop\n",
        "str= \"Shubham\"\n",
        "print (\"The original string  is : \",str)\n",
        "rev_String = \"\"\n",
        "count = len(str)\n",
        "while count > 0:\n",
        "    rev_String += str[ count - 1 ]\n",
        "    count = count - 1\n",
        "print (\"The reversed string is : \",rev_String)"
      ],
      "metadata": {
        "colab": {
          "base_uri": "https://localhost:8080/"
        },
        "id": "z0M2yhLP-8gq",
        "outputId": "f4ea0e05-c5b7-4c9a-c40a-a2312b2a66d8"
      },
      "execution_count": 50,
      "outputs": [
        {
          "output_type": "stream",
          "name": "stdout",
          "text": [
            "The original string  is :  Shubham\n",
            "The reversed string is :  mahbuhS\n"
          ]
        }
      ]
    },
    {
      "cell_type": "code",
      "source": [
        "#15> Write a Python program to calculate the factorial of a number provided by the user using a while loop.\n",
        "n = int(input(\"Enter any number: \"))\n",
        "f = 1\n",
        "while n >= 1:\n",
        "    f *= n\n",
        "    n -= 1\n",
        "print(\"Factorial is\", f)"
      ],
      "metadata": {
        "colab": {
          "base_uri": "https://localhost:8080/"
        },
        "id": "rnOxWppy_60W",
        "outputId": "3da2346a-7fa7-4b55-9148-db401a1e5299"
      },
      "execution_count": 55,
      "outputs": [
        {
          "output_type": "stream",
          "name": "stdout",
          "text": [
            "Enter any number: 5\n",
            "Factorial is 120\n"
          ]
        }
      ]
    }
  ]
}